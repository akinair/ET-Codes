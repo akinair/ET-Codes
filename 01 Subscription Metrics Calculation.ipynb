{
 "cells": [
  {
   "cell_type": "markdown",
   "metadata": {},
   "source": [
    "## Subscription Metrics Calculation NB"
   ]
  },
  {
   "cell_type": "markdown",
   "metadata": {},
   "source": [
    "### Libraries"
   ]
  },
  {
   "cell_type": "code",
   "execution_count": 1,
   "metadata": {},
   "outputs": [],
   "source": [
    "import pandas as pd\n",
    "import numpy as np\n",
    "import dateutil.parser as dpar\n",
    "from datetime import datetime, timedelta"
   ]
  },
  {
   "cell_type": "markdown",
   "metadata": {},
   "source": [
    "### Inputs"
   ]
  },
  {
   "cell_type": "code",
   "execution_count": 2,
   "metadata": {
    "scrolled": true
   },
   "outputs": [
    {
     "name": "stderr",
     "output_type": "stream",
     "text": [
      "C:\\Users\\akhil.nair1\\AppData\\Local\\Continuum\\anaconda3\\lib\\site-packages\\IPython\\core\\interactiveshell.py:3057: DtypeWarning: Columns (12,29,43) have mixed types. Specify dtype option on import or set low_memory=False.\n",
      "  interactivity=interactivity, compiler=compiler, result=result)\n"
     ]
    }
   ],
   "source": [
    "# Transaction init\n",
    "dfip=pd.read_csv(\"00 Inputs\\\\01 Transaction_init_Feb20.csv\")\n",
    "\n",
    "#ETPay\n",
    "tl0=pd.read_csv(\"00 Inputs\\\\transaction_list_Dec19.csv\")"
   ]
  },
  {
   "cell_type": "code",
   "execution_count": null,
   "metadata": {},
   "outputs": [],
   "source": [
    "tl0.head()"
   ]
  },
  {
   "cell_type": "code",
   "execution_count": 3,
   "metadata": {
    "scrolled": true
   },
   "outputs": [
    {
     "name": "stdout",
     "output_type": "stream",
     "text": [
      "<class 'pandas.core.frame.DataFrame'>\n",
      "RangeIndex: 121922 entries, 0 to 121921\n",
      "Data columns (total 58 columns):\n",
      "_class                                                     121922 non-null object\n",
      "_id                                                        121922 non-null object\n",
      "auto_renew                                                 121922 non-null bool\n",
      "bill_transaction_payment_state                             121922 non-null object\n",
      "bill_transaction_source                                    121916 non-null object\n",
      "bill_transaction_state                                     121922 non-null object\n",
      "bill_transanction_type                                     121855 non-null object\n",
      "billing_currency                                           117370 non-null object\n",
      "created_on                                                 121922 non-null object\n",
      "expiry_date_from_payment                                   53326 non-null object\n",
      "final_billing_amount                                       117374 non-null float64\n",
      "geo_region_code                                            121921 non-null object\n",
      "is_migrated                                                14311 non-null object\n",
      "merchant_code                                              121922 non-null object\n",
      "modidied_on                                                121922 non-null object\n",
      "payment_reference_id                                       51341 non-null object\n",
      "payment_success_date                                       57970 non-null object\n",
      "plan_code                                                  121922 non-null object\n",
      "plan_duration                                              109388 non-null float64\n",
      "plan_duration_unit                                         109388 non-null object\n",
      "plan_id                                                    121922 non-null float64\n",
      "plan_name                                                  121922 non-null object\n",
      "plan_price                                                 117375 non-null float64\n",
      "plan_trial_duration                                        109388 non-null float64\n",
      "plan_trial_duration_unit                                   109388 non-null object\n",
      "platform                                                   121320 non-null object\n",
      "primary_user_identifier                                    121345 non-null object\n",
      "primary_user_identifier_type                               121922 non-null object\n",
      "product_code                                               121922 non-null object\n",
      "scheduled_check_pay_status                                 121921 non-null object\n",
      "subscription_id                                            53530 non-null object\n",
      "trial_avalability                                          121922 non-null bool\n",
      "user_billing_transaction._id                               53511 non-null object\n",
      "user_billing_transaction.auto_renew                        53513 non-null object\n",
      "user_billing_transaction.bill_transaction_payment_state    53513 non-null object\n",
      "user_billing_transaction.bill_transaction_source           53513 non-null object\n",
      "user_billing_transaction.bill_transaction_state            53513 non-null object\n",
      "user_billing_transaction.bill_transanction_type            53506 non-null object\n",
      "user_billing_transaction.billing_currency                  52409 non-null object\n",
      "user_billing_transaction.created_on                        53513 non-null object\n",
      "user_billing_transaction.expiry_date_from_payment          46554 non-null object\n",
      "user_billing_transaction.final_billing_amount              52408 non-null float64\n",
      "user_billing_transaction.geo_region_code                   49505 non-null object\n",
      "user_billing_transaction.is_migrated                       14218 non-null object\n",
      "user_billing_transaction.merchant_code                     53513 non-null object\n",
      "user_billing_transaction.modidied_on                       53513 non-null object\n",
      "user_billing_transaction.parent_init_transaction_id        53510 non-null object\n",
      "user_billing_transaction.payment_reference_id              50322 non-null object\n",
      "user_billing_transaction.payment_success_date              53511 non-null object\n",
      "user_billing_transaction.plan_code                         53513 non-null object\n",
      "user_billing_transaction.plan_id                           53513 non-null float64\n",
      "user_billing_transaction.plan_name                         53513 non-null object\n",
      "user_billing_transaction.plan_price                        52409 non-null float64\n",
      "user_billing_transaction.platform                          52910 non-null object\n",
      "user_billing_transaction.product_code                      53513 non-null object\n",
      "user_billing_transaction.renew_subscription_start_date     20812 non-null object\n",
      "user_billing_transaction.trial_avalability                 53513 non-null object\n",
      "user_billing_transaction.user_subscription_account_id      53513 non-null object\n",
      "dtypes: bool(2), float64(8), object(48)\n",
      "memory usage: 52.3+ MB\n"
     ]
    }
   ],
   "source": [
    "dfip.info()"
   ]
  },
  {
   "cell_type": "markdown",
   "metadata": {},
   "source": [
    "## Using ET Pay to get Revenue Numbers"
   ]
  },
  {
   "cell_type": "code",
   "execution_count": null,
   "metadata": {},
   "outputs": [],
   "source": [
    "# Filtering ET Prime\n",
    "\n",
    "tl1=tl0[(tl0[\"Product Name\"]=='et_qtly_prime_1')|\n",
    "        (tl0[\"Product Name\"]=='ET Prime Subscription For 3 Months')|\n",
    "        (tl0[\"Product Name\"]=='Android 2 yearly membership')|\n",
    "        (tl0[\"Product Name\"]=='com.til.ETiphone.1year')|\n",
    "        (tl0[\"Product Name\"]=='2 Yearly Membership')|\n",
    "        (tl0[\"Product Name\"]=='ET Prime Annual Subscription')|\n",
    "        (tl0[\"Product Name\"]=='IOS month')|\n",
    "        (tl0[\"Product Name\"]=='Monthly')|\n",
    "        (tl0[\"Product Name\"]=='et_yearly_prime')|\n",
    "        (tl0[\"Product Name\"]=='com.til.ETiphone.3months')|\n",
    "        (tl0[\"Product Name\"]=='android monthly')|\n",
    "        (tl0[\"Product Name\"]=='SWG Annual Plan')]"
   ]
  },
  {
   "cell_type": "code",
   "execution_count": null,
   "metadata": {},
   "outputs": [],
   "source": [
    "# Total Revenue\n",
    "tl_s=tl1[tl1[\"Status\"]==\"Success\"]\n",
    "tl_s_amf=tl_s[(tl_s[\"Currency\"]==\"INR\")|(tl_s[\"Currency\"]==\"1\")]\n",
    "\n",
    "a=tl_s_amf[\"Amount Paid\"].sum()\n",
    "\n",
    "tl_s_am2=tl_s[(tl_s[\"Currency\"]!=\"INR\")&(tl_s[\"Currency\"]!=\"1\")]\n",
    "\n",
    "b=tl_s_am2[\"Amount Due\"].sum()\n",
    "\n",
    "c=tl1[(tl1[\"Status\"]==\"Refunded\")&((tl1[\"Currency\"]==\"INR\")|(tl1[\"Currency\"]==\"1\"))][\"Amount Paid\"].sum()\n",
    "\n",
    "d=tl1[(tl1[\"Status\"]==\"Refunded\")&((tl1[\"Currency\"]!=\"INR\")&(tl1[\"Currency\"]!=\"1\"))][\"Amount Due\"].sum()\n",
    "\n",
    "e=tl1[(tl1[\"Status\"]==\"Refunded\")][\"Refund Amount\"].sum()\n",
    "\n",
    "tot_rev=a+b+c+d-e"
   ]
  },
  {
   "cell_type": "code",
   "execution_count": null,
   "metadata": {},
   "outputs": [],
   "source": [
    "# Monthly\n",
    "\n",
    "tl=tl1[(tl1[\"Product Name\"]=='android monthly')|(tl1[\"Product Name\"]=='IOS month')|(tl1[\"Product Name\"]=='Monthly')|(tl1[\"Product Name\"]=='ET Prime Subscription For 1 Month')]\n",
    "\n",
    "tl_s=tl[tl[\"Status\"]==\"Success\"]\n",
    "tl_s_amf=tl_s[(tl_s[\"Currency\"]==\"INR\")|(tl_s[\"Currency\"]==\"1\")]\n",
    "\n",
    "a1=tl_s_amf[\"Amount Paid\"].sum()\n",
    "\n",
    "tl_s_am2=tl_s[(tl_s[\"Currency\"]!=\"INR\")&(tl_s[\"Currency\"]!=\"1\")]\n",
    "\n",
    "b1=tl_s_am2[\"Amount Due\"].sum()\n",
    "\n",
    "c1=tl[(tl[\"Status\"]==\"Refunded\")&((tl[\"Currency\"]==\"INR\")|(tl[\"Currency\"]==\"1\"))][\"Amount Paid\"].sum()\n",
    "\n",
    "d1=tl[(tl[\"Status\"]==\"Refunded\")&((tl[\"Currency\"]!=\"INR\")&(tl[\"Currency\"]!=\"1\"))][\"Amount Due\"].sum()\n",
    "\n",
    "e1=tl[(tl[\"Status\"]==\"Refunded\")][\"Refund Amount\"].sum()\n",
    "\n",
    "mon_rev=a1+b1+c1+d1-e1"
   ]
  },
  {
   "cell_type": "code",
   "execution_count": null,
   "metadata": {},
   "outputs": [],
   "source": [
    "# Quarterly\n",
    "\n",
    "'et_qtly_prime_1', \n",
    "'ET Prime Subscription For 3 Months',\n",
    "'com.til.ETiphone.3months', \n",
    "\n",
    "tl=tl1[(tl1[\"Product Name\"]=='et_qtly_prime_1')|(tl1[\"Product Name\"]=='ET Prime Subscription For 3 Months')|(tl1[\"Product Name\"]=='com.til.ETiphone.3months')]\n",
    "\n",
    "tl_s=tl[tl[\"Status\"]==\"Success\"]\n",
    "tl_s_amf=tl_s[(tl_s[\"Currency\"]==\"INR\")|(tl_s[\"Currency\"]==\"1\")]\n",
    "\n",
    "a2=tl_s_amf[\"Amount Paid\"].sum()\n",
    "\n",
    "tl_s_am2=tl_s[(tl_s[\"Currency\"]!=\"INR\")&(tl_s[\"Currency\"]!=\"1\")]\n",
    "\n",
    "b2=tl_s_am2[\"Amount Due\"].sum()\n",
    "\n",
    "c2=tl[(tl[\"Status\"]==\"Refunded\")&((tl[\"Currency\"]==\"INR\")|(tl[\"Currency\"]==\"1\"))][\"Amount Paid\"].sum()\n",
    "\n",
    "d2=tl[(tl[\"Status\"]==\"Refunded\")&((tl[\"Currency\"]!=\"INR\")&(tl[\"Currency\"]!=\"1\"))][\"Amount Due\"].sum()\n",
    "\n",
    "e2=tl[(tl[\"Status\"]==\"Refunded\")][\"Refund Amount\"].sum()\n",
    "\n",
    "qtly_rev=a2+b2+c2+d2-e2"
   ]
  },
  {
   "cell_type": "code",
   "execution_count": null,
   "metadata": {},
   "outputs": [],
   "source": [
    "# Annual\n",
    "\n",
    "tl=tl1[(tl1[\"Product Name\"]=='et_yearly_prime')|(tl1[\"Product Name\"]=='com.til.ETiphone.1year')|(tl1[\"Product Name\"]=='ET Prime Annual Subscription')|(tl1[\"Product Name\"]=='SWG Annual Plan')]\n",
    "\n",
    "tl_s=tl[tl[\"Status\"]==\"Success\"]\n",
    "tl_s_amf=tl_s[(tl_s[\"Currency\"]==\"INR\")|(tl_s[\"Currency\"]==\"1\")]\n",
    "\n",
    "a3=tl_s_amf[\"Amount Paid\"].sum()\n",
    "\n",
    "tl_s_am2=tl_s[(tl_s[\"Currency\"]!=\"INR\")&(tl_s[\"Currency\"]!=\"1\")]\n",
    "\n",
    "b3=tl_s_am2[\"Amount Due\"].sum()\n",
    "\n",
    "c3=tl[(tl[\"Status\"]==\"Refunded\")&((tl[\"Currency\"]==\"INR\")|(tl[\"Currency\"]==\"1\"))][\"Amount Paid\"].sum()\n",
    "\n",
    "d3=tl[(tl[\"Status\"]==\"Refunded\")&((tl[\"Currency\"]!=\"INR\")&(tl[\"Currency\"]!=\"1\"))][\"Amount Due\"].sum()\n",
    "\n",
    "e3=tl[(tl[\"Status\"]==\"Refunded\")][\"Refund Amount\"].sum()\n",
    "\n",
    "annual_rev=a3+b3+c3+d3-e3\n"
   ]
  },
  {
   "cell_type": "code",
   "execution_count": null,
   "metadata": {},
   "outputs": [],
   "source": [
    "## 2-Year\n",
    "\n",
    "tl=tl1[(tl1[\"Product Name\"]=='Android 2 yearly membership')|(tl1[\"Product Name\"]=='2 Yearly Membership')]\n",
    "\n",
    "tl_s=tl[tl[\"Status\"]==\"Success\"]\n",
    "tl_s_amf=tl_s[(tl_s[\"Currency\"]==\"INR\")|(tl_s[\"Currency\"]==\"1\")]\n",
    "\n",
    "a3=tl_s_amf[\"Amount Paid\"].sum()\n",
    "\n",
    "tl_s_am2=tl_s[(tl_s[\"Currency\"]!=\"INR\")&(tl_s[\"Currency\"]!=\"1\")]\n",
    "\n",
    "b3=tl_s_am2[\"Amount Due\"].sum()\n",
    "\n",
    "c3=tl[(tl[\"Status\"]==\"Refunded\")&((tl[\"Currency\"]==\"INR\")|(tl[\"Currency\"]==\"1\"))][\"Amount Paid\"].sum()\n",
    "\n",
    "d3=tl[(tl[\"Status\"]==\"Refunded\")&((tl[\"Currency\"]!=\"INR\")&(tl[\"Currency\"]!=\"1\"))][\"Amount Due\"].sum()\n",
    "\n",
    "e3=tl[(tl[\"Status\"]==\"Refunded\")][\"Refund Amount\"].sum()\n",
    "\n",
    "y2_rev=a3+b3+c3+d3-e3"
   ]
  },
  {
   "cell_type": "code",
   "execution_count": null,
   "metadata": {},
   "outputs": [],
   "source": [
    "tot_rev"
   ]
  },
  {
   "cell_type": "code",
   "execution_count": null,
   "metadata": {},
   "outputs": [],
   "source": [
    "mon_rev"
   ]
  },
  {
   "cell_type": "code",
   "execution_count": null,
   "metadata": {},
   "outputs": [],
   "source": [
    "qtly_rev"
   ]
  },
  {
   "cell_type": "code",
   "execution_count": null,
   "metadata": {},
   "outputs": [],
   "source": [
    "annual_rev"
   ]
  },
  {
   "cell_type": "code",
   "execution_count": null,
   "metadata": {},
   "outputs": [],
   "source": [
    "y2_rev"
   ]
  },
  {
   "cell_type": "code",
   "execution_count": null,
   "metadata": {},
   "outputs": [],
   "source": [
    "annual_rev+qtly_rev+mon_rev+y2_rev"
   ]
  },
  {
   "cell_type": "markdown",
   "metadata": {},
   "source": [
    "### -------------------------------------------------------------------------------------------------------------------------------------------------------------------"
   ]
  },
  {
   "cell_type": "markdown",
   "metadata": {},
   "source": [
    "## Using Transaction init to get the other metrics"
   ]
  },
  {
   "cell_type": "markdown",
   "metadata": {},
   "source": [
    "### Reqd. Columns"
   ]
  },
  {
   "cell_type": "code",
   "execution_count": 5,
   "metadata": {},
   "outputs": [],
   "source": [
    "df=dfip[['_id','auto_renew','bill_transaction_payment_state','bill_transaction_source','bill_transanction_type','billing_currency','created_on','final_billing_amount','payment_reference_id','plan_code','plan_id','platform','primary_user_identifier','primary_user_identifier_type']]"
   ]
  },
  {
   "cell_type": "code",
   "execution_count": 67,
   "metadata": {},
   "outputs": [
    {
     "name": "stdout",
     "output_type": "stream",
     "text": [
      "<class 'pandas.core.frame.DataFrame'>\n",
      "RangeIndex: 91866 entries, 0 to 91865\n",
      "Data columns (total 15 columns):\n",
      "_id                               91866 non-null object\n",
      "auto_renew                        91866 non-null bool\n",
      "bill_transaction_payment_state    91866 non-null object\n",
      "bill_transaction_source           91861 non-null object\n",
      "bill_transanction_type            91842 non-null object\n",
      "billing_currency                  89520 non-null object\n",
      "coupon_discount                   13429 non-null float64\n",
      "created_on                        91866 non-null object\n",
      "final_billing_amount              89523 non-null float64\n",
      "payment_reference_id              42709 non-null object\n",
      "plan_code                         91866 non-null object\n",
      "plan_id                           91866 non-null float64\n",
      "platform                          91264 non-null object\n",
      "primary_user_identifier           91716 non-null object\n",
      "primary_user_identifier_type      91866 non-null object\n",
      "dtypes: bool(1), float64(3), object(11)\n",
      "memory usage: 9.9+ MB\n"
     ]
    }
   ],
   "source": [
    "df.info()"
   ]
  },
  {
   "cell_type": "markdown",
   "metadata": {},
   "source": [
    "### Only ET Prime"
   ]
  },
  {
   "cell_type": "code",
   "execution_count": 68,
   "metadata": {},
   "outputs": [],
   "source": [
    "df_etp=df[\n",
    "    (\n",
    "        (df['plan_id']==1)|\n",
    "        (df['plan_id']==2)|\n",
    "        (df['plan_id']==3)|\n",
    "        (df['plan_id']==8)\n",
    "    )&\n",
    "    (\n",
    "        (df['final_billing_amount']==399)|\n",
    "        (df['final_billing_amount']==999)|\n",
    "        (df['final_billing_amount']==2499)|\n",
    "        (df['final_billing_amount']==3599)\n",
    "    )\n",
    "        ]"
   ]
  },
  {
   "cell_type": "code",
   "execution_count": 69,
   "metadata": {},
   "outputs": [
    {
     "name": "stdout",
     "output_type": "stream",
     "text": [
      "<class 'pandas.core.frame.DataFrame'>\n",
      "Int64Index: 37877 entries, 1 to 91859\n",
      "Data columns (total 15 columns):\n",
      "_id                               37877 non-null object\n",
      "auto_renew                        37877 non-null bool\n",
      "bill_transaction_payment_state    37877 non-null object\n",
      "bill_transaction_source           37873 non-null object\n",
      "bill_transanction_type            37871 non-null object\n",
      "billing_currency                  37877 non-null object\n",
      "coupon_discount                   12116 non-null float64\n",
      "created_on                        37877 non-null object\n",
      "final_billing_amount              37877 non-null float64\n",
      "payment_reference_id              26266 non-null object\n",
      "plan_code                         37877 non-null object\n",
      "plan_id                           37877 non-null float64\n",
      "platform                          37850 non-null object\n",
      "primary_user_identifier           37860 non-null object\n",
      "primary_user_identifier_type      37877 non-null object\n",
      "dtypes: bool(1), float64(3), object(11)\n",
      "memory usage: 4.4+ MB\n"
     ]
    }
   ],
   "source": [
    "df_etp.info()"
   ]
  },
  {
   "cell_type": "markdown",
   "metadata": {},
   "source": [
    "### Defining next payment date"
   ]
  },
  {
   "cell_type": "code",
   "execution_count": 70,
   "metadata": {},
   "outputs": [
    {
     "name": "stderr",
     "output_type": "stream",
     "text": [
      "C:\\Users\\akhil.nair1\\AppData\\Local\\Continuum\\anaconda3\\lib\\site-packages\\ipykernel_launcher.py:4: SettingWithCopyWarning: \n",
      "A value is trying to be set on a copy of a slice from a DataFrame.\n",
      "Try using .loc[row_indexer,col_indexer] = value instead\n",
      "\n",
      "See the caveats in the documentation: http://pandas.pydata.org/pandas-docs/stable/indexing.html#indexing-view-versus-copy\n",
      "  after removing the cwd from sys.path.\n"
     ]
    }
   ],
   "source": [
    "df_etp['exp_days']=np.where(df_etp['plan_id']==1,29,\n",
    "                            np.where(df_etp['plan_id']==2,89,\n",
    "                                     np.where(df_etp['plan_id']==3,364,\n",
    "                                              np.where(df_etp['plan_id']==8,729,0\n",
    "                                                      )\n",
    "                                              )\n",
    "                                     )\n",
    "                            )"
   ]
  },
  {
   "cell_type": "code",
   "execution_count": 71,
   "metadata": {
    "scrolled": true
   },
   "outputs": [
    {
     "name": "stderr",
     "output_type": "stream",
     "text": [
      "C:\\Users\\akhil.nair1\\AppData\\Local\\Continuum\\anaconda3\\lib\\site-packages\\ipykernel_launcher.py:1: SettingWithCopyWarning: \n",
      "A value is trying to be set on a copy of a slice from a DataFrame.\n",
      "Try using .loc[row_indexer,col_indexer] = value instead\n",
      "\n",
      "See the caveats in the documentation: http://pandas.pydata.org/pandas-docs/stable/indexing.html#indexing-view-versus-copy\n",
      "  \"\"\"Entry point for launching an IPython kernel.\n",
      "C:\\Users\\akhil.nair1\\AppData\\Local\\Continuum\\anaconda3\\lib\\site-packages\\ipykernel_launcher.py:3: SettingWithCopyWarning: \n",
      "A value is trying to be set on a copy of a slice from a DataFrame.\n",
      "Try using .loc[row_indexer,col_indexer] = value instead\n",
      "\n",
      "See the caveats in the documentation: http://pandas.pydata.org/pandas-docs/stable/indexing.html#indexing-view-versus-copy\n",
      "  This is separate from the ipykernel package so we can avoid doing imports until\n",
      "C:\\Users\\akhil.nair1\\AppData\\Local\\Continuum\\anaconda3\\lib\\site-packages\\ipykernel_launcher.py:4: SettingWithCopyWarning: \n",
      "A value is trying to be set on a copy of a slice from a DataFrame.\n",
      "Try using .loc[row_indexer,col_indexer] = value instead\n",
      "\n",
      "See the caveats in the documentation: http://pandas.pydata.org/pandas-docs/stable/indexing.html#indexing-view-versus-copy\n",
      "  after removing the cwd from sys.path.\n",
      "C:\\Users\\akhil.nair1\\AppData\\Local\\Continuum\\anaconda3\\lib\\site-packages\\ipykernel_launcher.py:5: SettingWithCopyWarning: \n",
      "A value is trying to be set on a copy of a slice from a DataFrame.\n",
      "Try using .loc[row_indexer,col_indexer] = value instead\n",
      "\n",
      "See the caveats in the documentation: http://pandas.pydata.org/pandas-docs/stable/indexing.html#indexing-view-versus-copy\n",
      "  \"\"\"\n"
     ]
    }
   ],
   "source": [
    "df_etp['created_on']=df_etp['created_on'].apply(lambda x: dpar.parse(x).strftime('%m/%d/%Y'))\n",
    "\n",
    "df_etp['created_on']=pd.to_datetime(df_etp['created_on'])\n",
    "df_etp['exp_days']=pd.to_timedelta(df_etp['exp_days'],unit='d')\n",
    "df_etp['exp_on']=df_etp['created_on']+df_etp['exp_days']"
   ]
  },
  {
   "cell_type": "markdown",
   "metadata": {},
   "source": [
    "#### Exp Month"
   ]
  },
  {
   "cell_type": "code",
   "execution_count": 74,
   "metadata": {
    "scrolled": true
   },
   "outputs": [
    {
     "name": "stderr",
     "output_type": "stream",
     "text": [
      "C:\\Users\\akhil.nair1\\AppData\\Local\\Continuum\\anaconda3\\lib\\site-packages\\ipykernel_launcher.py:1: SettingWithCopyWarning: \n",
      "A value is trying to be set on a copy of a slice from a DataFrame.\n",
      "Try using .loc[row_indexer,col_indexer] = value instead\n",
      "\n",
      "See the caveats in the documentation: http://pandas.pydata.org/pandas-docs/stable/indexing.html#indexing-view-versus-copy\n",
      "  \"\"\"Entry point for launching an IPython kernel.\n",
      "C:\\Users\\akhil.nair1\\AppData\\Local\\Continuum\\anaconda3\\lib\\site-packages\\ipykernel_launcher.py:2: SettingWithCopyWarning: \n",
      "A value is trying to be set on a copy of a slice from a DataFrame.\n",
      "Try using .loc[row_indexer,col_indexer] = value instead\n",
      "\n",
      "See the caveats in the documentation: http://pandas.pydata.org/pandas-docs/stable/indexing.html#indexing-view-versus-copy\n",
      "  \n"
     ]
    }
   ],
   "source": [
    "df_etp['start_month']=pd.DatetimeIndex(df_etp['created_on']).year.astype(str)+pd.DatetimeIndex(df_etp['created_on']).month.astype(str).str.zfill(2)\n",
    "df_etp['exp_month']=pd.DatetimeIndex(df_etp['exp_on']).year.astype(str)+pd.DatetimeIndex(df_etp['exp_on']).month.astype(str).str.zfill(2)"
   ]
  },
  {
   "cell_type": "code",
   "execution_count": 75,
   "metadata": {
    "scrolled": false
   },
   "outputs": [
    {
     "name": "stdout",
     "output_type": "stream",
     "text": [
      "<class 'pandas.core.frame.DataFrame'>\n",
      "Int64Index: 37877 entries, 1 to 91859\n",
      "Data columns (total 19 columns):\n",
      "_id                               37877 non-null object\n",
      "auto_renew                        37877 non-null bool\n",
      "bill_transaction_payment_state    37877 non-null object\n",
      "bill_transaction_source           37873 non-null object\n",
      "bill_transanction_type            37871 non-null object\n",
      "billing_currency                  37877 non-null object\n",
      "coupon_discount                   12116 non-null float64\n",
      "created_on                        37877 non-null datetime64[ns]\n",
      "final_billing_amount              37877 non-null float64\n",
      "payment_reference_id              26266 non-null object\n",
      "plan_code                         37877 non-null object\n",
      "plan_id                           37877 non-null float64\n",
      "platform                          37850 non-null object\n",
      "primary_user_identifier           37860 non-null object\n",
      "primary_user_identifier_type      37877 non-null object\n",
      "exp_days                          37877 non-null timedelta64[ns]\n",
      "exp_on                            37877 non-null datetime64[ns]\n",
      "start_month                       37877 non-null object\n",
      "exp_month                         37877 non-null object\n",
      "dtypes: bool(1), datetime64[ns](2), float64(3), object(12), timedelta64[ns](1)\n",
      "memory usage: 5.5+ MB\n"
     ]
    }
   ],
   "source": [
    "df_etp.info()"
   ]
  },
  {
   "cell_type": "markdown",
   "metadata": {},
   "source": [
    "#### Expiry current month"
   ]
  },
  {
   "cell_type": "code",
   "execution_count": 156,
   "metadata": {},
   "outputs": [],
   "source": [
    "curr_month=\"201911\"  ### Update this ###\n",
    "prev_month=\"201910\"  ### Update this ###\n",
    "next_month=\"201912\"  ### Update this ###"
   ]
  },
  {
   "cell_type": "code",
   "execution_count": 157,
   "metadata": {},
   "outputs": [
    {
     "data": {
      "text/plain": [
       "array(['PAYMENT_SUCCESS', 'PAYMENT_INTIALIZED', 'PAYMENT_NOT_INTIALIZED',\n",
       "       'TRANSACTION_SUCCESS', 'PAYMENT_FAILED'], dtype=object)"
      ]
     },
     "execution_count": 157,
     "metadata": {},
     "output_type": "execute_result"
    }
   ],
   "source": [
    "df_etp[\"bill_transaction_payment_state\"].unique()"
   ]
  },
  {
   "cell_type": "code",
   "execution_count": 158,
   "metadata": {},
   "outputs": [],
   "source": [
    "df_filt0=df_etp[(df_etp[\"bill_transaction_payment_state\"]==\"PAYMENT_SUCCESS\")|(df_etp[\"bill_transaction_payment_state\"]==\"TRANSACTION_SUCCESS\")]\n",
    "df_filt1=df_filt0[[\"primary_user_identifier\",\"plan_id\",\"bill_transanction_type\",\"created_on\",\"exp_on\",\"start_month\",\"exp_month\",\"final_billing_amount\"]]"
   ]
  },
  {
   "cell_type": "code",
   "execution_count": 159,
   "metadata": {
    "scrolled": true
   },
   "outputs": [
    {
     "name": "stdout",
     "output_type": "stream",
     "text": [
      "<class 'pandas.core.frame.DataFrame'>\n",
      "Int64Index: 26662 entries, 1 to 91859\n",
      "Data columns (total 8 columns):\n",
      "primary_user_identifier    26662 non-null object\n",
      "plan_id                    26662 non-null float64\n",
      "bill_transanction_type     26656 non-null object\n",
      "created_on                 26662 non-null datetime64[ns]\n",
      "exp_on                     26662 non-null datetime64[ns]\n",
      "start_month                26662 non-null object\n",
      "exp_month                  26662 non-null object\n",
      "final_billing_amount       26662 non-null float64\n",
      "dtypes: datetime64[ns](2), float64(2), object(4)\n",
      "memory usage: 1.8+ MB\n"
     ]
    }
   ],
   "source": [
    "df_filt1.info()"
   ]
  },
  {
   "cell_type": "code",
   "execution_count": 160,
   "metadata": {
    "scrolled": true
   },
   "outputs": [],
   "source": [
    "df_exp=df_filt1[df_filt1[\"exp_month\"]==curr_month]"
   ]
  },
  {
   "cell_type": "code",
   "execution_count": 136,
   "metadata": {},
   "outputs": [
    {
     "name": "stdout",
     "output_type": "stream",
     "text": [
      "<class 'pandas.core.frame.DataFrame'>\n",
      "Int64Index: 2585 entries, 50 to 72958\n",
      "Data columns (total 8 columns):\n",
      "primary_user_identifier    2585 non-null object\n",
      "plan_id                    2585 non-null float64\n",
      "bill_transanction_type     2585 non-null object\n",
      "created_on                 2585 non-null datetime64[ns]\n",
      "exp_on                     2585 non-null datetime64[ns]\n",
      "start_month                2585 non-null object\n",
      "exp_month                  2585 non-null object\n",
      "final_billing_amount       2585 non-null float64\n",
      "dtypes: datetime64[ns](2), float64(2), object(4)\n",
      "memory usage: 181.8+ KB\n"
     ]
    }
   ],
   "source": [
    "df_exp.info()"
   ]
  },
  {
   "cell_type": "code",
   "execution_count": 161,
   "metadata": {
    "scrolled": true
   },
   "outputs": [
    {
     "name": "stderr",
     "output_type": "stream",
     "text": [
      "C:\\Users\\akhil.nair1\\AppData\\Local\\Continuum\\anaconda3\\lib\\site-packages\\ipykernel_launcher.py:1: SettingWithCopyWarning: \n",
      "A value is trying to be set on a copy of a slice from a DataFrame\n",
      "\n",
      "See the caveats in the documentation: http://pandas.pydata.org/pandas-docs/stable/indexing.html#indexing-view-versus-copy\n",
      "  \"\"\"Entry point for launching an IPython kernel.\n",
      "C:\\Users\\akhil.nair1\\AppData\\Local\\Continuum\\anaconda3\\lib\\site-packages\\ipykernel_launcher.py:2: SettingWithCopyWarning: \n",
      "A value is trying to be set on a copy of a slice from a DataFrame\n",
      "\n",
      "See the caveats in the documentation: http://pandas.pydata.org/pandas-docs/stable/indexing.html#indexing-view-versus-copy\n",
      "  \n"
     ]
    }
   ],
   "source": [
    "df_exp.sort_values([\"primary_user_identifier\",\"created_on\"],ascending=[True,False],inplace=True)\n",
    "df_exp.drop_duplicates(subset='primary_user_identifier',keep='first',inplace=True)"
   ]
  },
  {
   "cell_type": "code",
   "execution_count": 138,
   "metadata": {
    "scrolled": true
   },
   "outputs": [
    {
     "name": "stdout",
     "output_type": "stream",
     "text": [
      "<class 'pandas.core.frame.DataFrame'>\n",
      "Int64Index: 2485 entries, 41433 to 42584\n",
      "Data columns (total 8 columns):\n",
      "primary_user_identifier    2485 non-null object\n",
      "plan_id                    2485 non-null float64\n",
      "bill_transanction_type     2485 non-null object\n",
      "created_on                 2485 non-null datetime64[ns]\n",
      "exp_on                     2485 non-null datetime64[ns]\n",
      "start_month                2485 non-null object\n",
      "exp_month                  2485 non-null object\n",
      "final_billing_amount       2485 non-null float64\n",
      "dtypes: datetime64[ns](2), float64(2), object(4)\n",
      "memory usage: 174.7+ KB\n"
     ]
    }
   ],
   "source": [
    "df_exp.info()"
   ]
  },
  {
   "cell_type": "code",
   "execution_count": 162,
   "metadata": {},
   "outputs": [],
   "source": [
    "df_new1=df_filt1[((df_filt1[\"start_month\"]==curr_month)|(df_filt1[\"start_month\"]==next_month)|(df_filt1[\"start_month\"]==prev_month))&(df_filt1[\"exp_month\"]>curr_month)]"
   ]
  },
  {
   "cell_type": "code",
   "execution_count": 163,
   "metadata": {
    "scrolled": true
   },
   "outputs": [
    {
     "name": "stdout",
     "output_type": "stream",
     "text": [
      "<class 'pandas.core.frame.DataFrame'>\n",
      "Int64Index: 5744 entries, 45816 to 91859\n",
      "Data columns (total 8 columns):\n",
      "primary_user_identifier    5744 non-null object\n",
      "plan_id                    5744 non-null float64\n",
      "bill_transanction_type     5738 non-null object\n",
      "created_on                 5744 non-null datetime64[ns]\n",
      "exp_on                     5744 non-null datetime64[ns]\n",
      "start_month                5744 non-null object\n",
      "exp_month                  5744 non-null object\n",
      "final_billing_amount       5744 non-null float64\n",
      "dtypes: datetime64[ns](2), float64(2), object(4)\n",
      "memory usage: 403.9+ KB\n"
     ]
    }
   ],
   "source": [
    "df_new1.info()"
   ]
  },
  {
   "cell_type": "code",
   "execution_count": 164,
   "metadata": {
    "scrolled": false
   },
   "outputs": [
    {
     "name": "stderr",
     "output_type": "stream",
     "text": [
      "C:\\Users\\akhil.nair1\\AppData\\Local\\Continuum\\anaconda3\\lib\\site-packages\\ipykernel_launcher.py:1: SettingWithCopyWarning: \n",
      "A value is trying to be set on a copy of a slice from a DataFrame\n",
      "\n",
      "See the caveats in the documentation: http://pandas.pydata.org/pandas-docs/stable/indexing.html#indexing-view-versus-copy\n",
      "  \"\"\"Entry point for launching an IPython kernel.\n",
      "C:\\Users\\akhil.nair1\\AppData\\Local\\Continuum\\anaconda3\\lib\\site-packages\\ipykernel_launcher.py:2: SettingWithCopyWarning: \n",
      "A value is trying to be set on a copy of a slice from a DataFrame\n",
      "\n",
      "See the caveats in the documentation: http://pandas.pydata.org/pandas-docs/stable/indexing.html#indexing-view-versus-copy\n",
      "  \n"
     ]
    }
   ],
   "source": [
    "df_new1.sort_values([\"primary_user_identifier\",\"created_on\"],ascending=[True,False],inplace=True)\n",
    "df_new1.drop_duplicates(subset=\"primary_user_identifier\",keep='first',inplace=True)\n",
    "\n",
    "df_new2=df_new1[[\"primary_user_identifier\",\"plan_id\"]]\n",
    "df_new2.rename(columns={\"plan_id\":\"new_plan_id\"},inplace=True)"
   ]
  },
  {
   "cell_type": "code",
   "execution_count": 165,
   "metadata": {},
   "outputs": [
    {
     "name": "stdout",
     "output_type": "stream",
     "text": [
      "<class 'pandas.core.frame.DataFrame'>\n",
      "Int64Index: 5484 entries, 52016 to 68330\n",
      "Data columns (total 2 columns):\n",
      "primary_user_identifier    5484 non-null object\n",
      "new_plan_id                5484 non-null float64\n",
      "dtypes: float64(1), object(1)\n",
      "memory usage: 128.5+ KB\n"
     ]
    }
   ],
   "source": [
    "df_new2.info()"
   ]
  },
  {
   "cell_type": "code",
   "execution_count": 166,
   "metadata": {
    "scrolled": true
   },
   "outputs": [],
   "source": [
    "df3=pd.merge(df_exp,df_new2,on='primary_user_identifier',how='left')"
   ]
  },
  {
   "cell_type": "code",
   "execution_count": 144,
   "metadata": {
    "scrolled": true
   },
   "outputs": [
    {
     "name": "stdout",
     "output_type": "stream",
     "text": [
      "<class 'pandas.core.frame.DataFrame'>\n",
      "Int64Index: 2485 entries, 0 to 2484\n",
      "Data columns (total 9 columns):\n",
      "primary_user_identifier    2485 non-null object\n",
      "plan_id                    2485 non-null float64\n",
      "bill_transanction_type     2485 non-null object\n",
      "created_on                 2485 non-null datetime64[ns]\n",
      "exp_on                     2485 non-null datetime64[ns]\n",
      "start_month                2485 non-null object\n",
      "exp_month                  2485 non-null object\n",
      "final_billing_amount       2485 non-null float64\n",
      "new_plan_id                1535 non-null float64\n",
      "dtypes: datetime64[ns](2), float64(3), object(4)\n",
      "memory usage: 194.1+ KB\n"
     ]
    }
   ],
   "source": [
    "df3.info()"
   ]
  },
  {
   "cell_type": "code",
   "execution_count": 110,
   "metadata": {},
   "outputs": [],
   "source": [
    "#df3['new_plan_id'].fillna(0,inplace=True)"
   ]
  },
  {
   "cell_type": "code",
   "execution_count": 167,
   "metadata": {},
   "outputs": [],
   "source": [
    "df3['change']=np.where(df3['new_plan_id']>df3['plan_id'],\"Upgrade\",\n",
    "                       np.where(df3['new_plan_id']<df3['plan_id'],\"Downgrade\",\n",
    "                                np.where(df3['new_plan_id']==df3['plan_id'],\"Renew\",\"Expire\")))"
   ]
  },
  {
   "cell_type": "code",
   "execution_count": 168,
   "metadata": {
    "scrolled": false
   },
   "outputs": [],
   "source": [
    "dx=pd.DataFrame(df3.groupby([\"plan_id\",\"change\"])[\"primary_user_identifier\"].count())"
   ]
  },
  {
   "cell_type": "code",
   "execution_count": 169,
   "metadata": {},
   "outputs": [],
   "source": [
    "# Retention by plan\n",
    "# Total Retention\n",
    "# churn Revenue\n",
    "# upgrade/Retention\n",
    "# downgrade/Retention\n",
    "# CLV\n",
    "\n",
    "# Retention by plan\n",
    "dx.reset_index(level=[0,1], inplace=True)\n",
    "#dx.pivot(index='plan_id',columns='change',values='primary_user_identifier')"
   ]
  },
  {
   "cell_type": "code",
   "execution_count": 170,
   "metadata": {},
   "outputs": [],
   "source": [
    "dy=dx.pivot(\"plan_id\",\"change\",\"primary_user_identifier\")"
   ]
  },
  {
   "cell_type": "code",
   "execution_count": 171,
   "metadata": {},
   "outputs": [],
   "source": [
    "dy.reset_index(level=0,inplace=True)"
   ]
  },
  {
   "cell_type": "code",
   "execution_count": 172,
   "metadata": {
    "scrolled": false
   },
   "outputs": [],
   "source": [
    "dy.fillna(0,inplace=True)\n",
    "dy[\"Retention\"]=(1-(dy[\"Expire\"]/(dy[\"Expire\"]+dy[\"Renew\"]+dy[\"Downgrade\"]+dy[\"Upgrade\"])))\n",
    "dy[\"churned_revenue\"]=np.where(dy[\"plan_id\"]==1,399*dy[\"Expire\"],\n",
    "                               np.where(dy[\"plan_id\"]==2,999*dy[\"Expire\"],\n",
    "                                        np.where(dy[\"plan_id\"]==3,2499*dy[\"Expire\"],\n",
    "                                                 3599*dy[\"Expire\"]\n",
    "                                                )\n",
    "                                       )\n",
    "                              )"
   ]
  },
  {
   "cell_type": "code",
   "execution_count": 173,
   "metadata": {},
   "outputs": [
    {
     "name": "stdout",
     "output_type": "stream",
     "text": [
      "9.53415\n"
     ]
    }
   ],
   "source": [
    "print(dy[\"churned_revenue\"].sum()/100000)"
   ]
  },
  {
   "cell_type": "code",
   "execution_count": 174,
   "metadata": {},
   "outputs": [],
   "source": [
    "tot= dy[\"Downgrade\"].sum() +dy[\"Upgrade\"].sum() + dy[\"Renew\"].sum() + dy[\"Expire\"].sum()\n",
    "Up=dy[\"Upgrade\"].sum()/tot\n",
    "Down=dy[\"Downgrade\"].sum()/tot\n",
    "ret_ovr = (1-(dy[\"Expire\"].sum()/tot))"
   ]
  },
  {
   "cell_type": "code",
   "execution_count": 175,
   "metadata": {},
   "outputs": [
    {
     "data": {
      "text/html": [
       "<div>\n",
       "<style scoped>\n",
       "    .dataframe tbody tr th:only-of-type {\n",
       "        vertical-align: middle;\n",
       "    }\n",
       "\n",
       "    .dataframe tbody tr th {\n",
       "        vertical-align: top;\n",
       "    }\n",
       "\n",
       "    .dataframe thead th {\n",
       "        text-align: right;\n",
       "    }\n",
       "</style>\n",
       "<table border=\"1\" class=\"dataframe\">\n",
       "  <thead>\n",
       "    <tr style=\"text-align: right;\">\n",
       "      <th>change</th>\n",
       "      <th>plan_id</th>\n",
       "      <th>Downgrade</th>\n",
       "      <th>Expire</th>\n",
       "      <th>Renew</th>\n",
       "      <th>Upgrade</th>\n",
       "      <th>Retention</th>\n",
       "      <th>churned_revenue</th>\n",
       "    </tr>\n",
       "  </thead>\n",
       "  <tbody>\n",
       "    <tr>\n",
       "      <th>0</th>\n",
       "      <td>1.0</td>\n",
       "      <td>0.0</td>\n",
       "      <td>209.0</td>\n",
       "      <td>715.0</td>\n",
       "      <td>11.0</td>\n",
       "      <td>0.776471</td>\n",
       "      <td>83391.0</td>\n",
       "    </tr>\n",
       "    <tr>\n",
       "      <th>1</th>\n",
       "      <td>2.0</td>\n",
       "      <td>0.0</td>\n",
       "      <td>213.0</td>\n",
       "      <td>256.0</td>\n",
       "      <td>5.0</td>\n",
       "      <td>0.550633</td>\n",
       "      <td>212787.0</td>\n",
       "    </tr>\n",
       "    <tr>\n",
       "      <th>2</th>\n",
       "      <td>3.0</td>\n",
       "      <td>3.0</td>\n",
       "      <td>263.0</td>\n",
       "      <td>168.0</td>\n",
       "      <td>17.0</td>\n",
       "      <td>0.416851</td>\n",
       "      <td>657237.0</td>\n",
       "    </tr>\n",
       "  </tbody>\n",
       "</table>\n",
       "</div>"
      ],
      "text/plain": [
       "change  plan_id  Downgrade  Expire  Renew  Upgrade  Retention  churned_revenue\n",
       "0           1.0        0.0   209.0  715.0     11.0   0.776471          83391.0\n",
       "1           2.0        0.0   213.0  256.0      5.0   0.550633         212787.0\n",
       "2           3.0        3.0   263.0  168.0     17.0   0.416851         657237.0"
      ]
     },
     "execution_count": 175,
     "metadata": {},
     "output_type": "execute_result"
    }
   ],
   "source": [
    "dy"
   ]
  },
  {
   "cell_type": "code",
   "execution_count": 176,
   "metadata": {},
   "outputs": [
    {
     "data": {
      "text/plain": [
       "685.0"
      ]
     },
     "execution_count": 176,
     "metadata": {},
     "output_type": "execute_result"
    }
   ],
   "source": [
    "#print(ret_ovr,Up,Down)\n",
    "dy[\"Expire\"].sum()"
   ]
  },
  {
   "cell_type": "code",
   "execution_count": 177,
   "metadata": {
    "scrolled": true
   },
   "outputs": [
    {
     "name": "stdout",
     "output_type": "stream",
     "text": [
      "0.6317204301075269 0.017741935483870968 0.0016129032258064516\n"
     ]
    }
   ],
   "source": [
    "print(ret_ovr,Up,Down)"
   ]
  },
  {
   "cell_type": "markdown",
   "metadata": {},
   "source": [
    "### -------------------------------------------------------------------------------------------------------------------------------------------------------------------"
   ]
  }
 ],
 "metadata": {
  "kernelspec": {
   "display_name": "Python 3",
   "language": "python",
   "name": "python3"
  },
  "language_info": {
   "codemirror_mode": {
    "name": "ipython",
    "version": 3
   },
   "file_extension": ".py",
   "mimetype": "text/x-python",
   "name": "python",
   "nbconvert_exporter": "python",
   "pygments_lexer": "ipython3",
   "version": "3.7.3"
  }
 },
 "nbformat": 4,
 "nbformat_minor": 2
}
